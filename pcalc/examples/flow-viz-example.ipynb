{
 "cells": [
  {
   "metadata": {},
   "cell_type": "code",
   "outputs": [],
   "execution_count": null,
   "source": [
    "# # Simulation Demo: Basic Flow Visualization\n",
    "\n",
    "# This notebook demonstrates how to run a basic simulation using the presence calculus framework and visualize the resulting flow metrics.\n",
    "\n",
    "# ## Setup\n",
    "\n",
    "from metamodel.domain import run_simulation\n",
    "from analytics.plotting import plot_phase_trajectory\n",
    "\n",
    "# ## Parameters\n",
    "T = 200\n",
    "arrival_rate = 0.8\n",
    "service_delay_A = 2\n",
    "service_delay_B = 2\n",
    "service_delay_C = 2\n",
    "p_rework = 0\n",
    "concurrency = 1\n",
    "\n",
    "# ## Run Simulation\n",
    "presence, arrival_index, signal_index, visit_index  = run_simulation(\n",
    "    T=T,\n",
    "    arrival_rate=arrival_rate,\n",
    "    service_delay_A=service_delay_A,\n",
    "    service_delay_B=service_delay_B,\n",
    "    service_delay_C=service_delay_C,\n",
    "    rework_prob=p_rework,\n",
    "    seed=81\n",
    ")\n",
    "\n",
    "queue = \"System\"\n",
    "# ## Visualize Flow\n",
    "plot_phase_trajectory(presence[queue], arrival_index[queue], visit_index[queue], T)"
   ],
   "id": "5dd85364134b3740"
  }
 ],
 "metadata": {
  "kernelspec": {
   "display_name": "Python 3",
   "language": "python",
   "name": "python3"
  },
  "language_info": {
   "codemirror_mode": {
    "name": "ipython",
    "version": 2
   },
   "file_extension": ".py",
   "mimetype": "text/x-python",
   "name": "python",
   "nbconvert_exporter": "python",
   "pygments_lexer": "ipython2",
   "version": "2.7.6"
  }
 },
 "nbformat": 4,
 "nbformat_minor": 5
}
