{
 "cells": [
  {
   "metadata": {
    "ExecuteTime": {
     "end_time": "2025-04-14T16:55:33.665403Z",
     "start_time": "2025-04-14T16:55:33.645366Z"
    }
   },
   "cell_type": "code",
   "source": [
    "%load_ext autoreload\n",
    "%autoreload 2"
   ],
   "id": "4276707e05318da9",
   "outputs": [],
   "execution_count": 1
  },
  {
   "metadata": {
    "collapsed": true,
    "ExecuteTime": {
     "end_time": "2025-04-14T17:10:26.909583Z",
     "start_time": "2025-04-14T17:10:26.690671Z"
    }
   },
   "cell_type": "code",
   "source": [
    "\n",
    "%autoreload 2\n",
    "import networkx as nx\n",
    "import importlib\n",
    "import queuing_network_simulator\n",
    "import signal_history\n",
    "import signal_history_metrics\n",
    "\n",
    "import importlib\n",
    "importlib.reload(queuing_network_simulator)\n",
    "\n",
    "\n",
    "\n"
   ],
   "id": "initial_id",
   "outputs": [
    {
     "data": {
      "text/plain": [
       "<module 'queuing_network_simulator' from '/Users/krishna/code/ChatGPT/littles-law-paper/queuing_network_simulator.py'>"
      ]
     },
     "execution_count": 14,
     "metadata": {},
     "output_type": "execute_result"
    }
   ],
   "execution_count": 14
  },
  {
   "metadata": {
    "ExecuteTime": {
     "end_time": "2025-04-14T17:10:29.322492Z",
     "start_time": "2025-04-14T17:10:29.155991Z"
    }
   },
   "cell_type": "code",
   "source": [
    "from queuing_network_simulator import run_simulation\n",
    "\n",
    "G = nx.DiGraph()\n",
    "G.add_node(\"A\", delay=0.05, concurrency=1)\n",
    "result = run_simulation(G, start_node=\"A\",  T=500, arrival_rate=0.1)\n",
    "result.get_system_signal_history().queue_length.plot()\n",
    "\n"
   ],
   "id": "1a7074ab7596a1a7",
   "outputs": [
    {
     "name": "stdout",
     "output_type": "stream",
     "text": [
      "ENTITY START: 11a3c1a4-03ca-4990-8d41-e64af74c29c5\n",
      "Entity 11a3c1a4-03ca-4990-8d41-e64af74c29c5 exited at time 0.05\n",
      "ENTITY START: 0a5c70a6-2e47-4484-b95e-92d27c9562d0\n",
      "Entity 0a5c70a6-2e47-4484-b95e-92d27c9562d0 exited at time 10.05\n",
      "ENTITY START: 5a1a1cd9-1ad2-4e8e-b3e8-969538fc0600\n",
      "Entity 5a1a1cd9-1ad2-4e8e-b3e8-969538fc0600 exited at time 20.05\n",
      "ENTITY START: 5a011e65-8cac-4815-95e6-efde60bb2c83\n",
      "Entity 5a011e65-8cac-4815-95e6-efde60bb2c83 exited at time 30.05\n",
      "ENTITY START: 21a504ff-97c4-482f-8e08-f456d498fd4c\n",
      "Entity 21a504ff-97c4-482f-8e08-f456d498fd4c exited at time 40.05\n",
      "ENTITY START: dcf92eae-a2c1-4544-ac54-3b90f81d4ce8\n",
      "Entity dcf92eae-a2c1-4544-ac54-3b90f81d4ce8 exited at time 50.05\n",
      "ENTITY START: 61320df8-38c8-4dca-8947-db85653c5e3b\n",
      "Entity 61320df8-38c8-4dca-8947-db85653c5e3b exited at time 60.05\n",
      "ENTITY START: 9c134446-2396-41ec-b279-3669ce31d66f\n",
      "Entity 9c134446-2396-41ec-b279-3669ce31d66f exited at time 70.05\n",
      "ENTITY START: ae43a07f-6913-4cf4-9c21-ce9e63d2876c\n",
      "Entity ae43a07f-6913-4cf4-9c21-ce9e63d2876c exited at time 80.05\n",
      "ENTITY START: 3ed098bb-117f-4386-8e68-2b9c7c5dea59\n",
      "Entity 3ed098bb-117f-4386-8e68-2b9c7c5dea59 exited at time 90.05\n",
      "ENTITY START: 36814b47-b56e-451e-82a3-426c1d6d6ead\n",
      "Entity 36814b47-b56e-451e-82a3-426c1d6d6ead exited at time 100.05\n",
      "ENTITY START: 31c0d84a-ad33-4a09-9069-dcbaa7c6b286\n",
      "Entity 31c0d84a-ad33-4a09-9069-dcbaa7c6b286 exited at time 110.05\n",
      "ENTITY START: 400c1700-60f3-4779-8537-dc5a857bfa49\n",
      "Entity 400c1700-60f3-4779-8537-dc5a857bfa49 exited at time 120.05\n",
      "ENTITY START: ee55723d-f09e-4ba3-9820-f9e0b24b4f83\n",
      "Entity ee55723d-f09e-4ba3-9820-f9e0b24b4f83 exited at time 130.05\n",
      "ENTITY START: 15ccc733-1822-4192-b402-a30318f1057a\n",
      "Entity 15ccc733-1822-4192-b402-a30318f1057a exited at time 140.05\n",
      "ENTITY START: d721bc01-870f-4e67-b560-a3e4ff315e8c\n",
      "Entity d721bc01-870f-4e67-b560-a3e4ff315e8c exited at time 150.05\n",
      "ENTITY START: 75f2a28c-eaac-4fbb-87e9-acf2fa89da37\n",
      "Entity 75f2a28c-eaac-4fbb-87e9-acf2fa89da37 exited at time 160.05\n",
      "ENTITY START: 72f88d7e-bb9f-47c7-8982-1d0c5e10f50c\n",
      "Entity 72f88d7e-bb9f-47c7-8982-1d0c5e10f50c exited at time 170.05\n",
      "ENTITY START: 893a70b8-1a09-4679-af3a-a31f26c49519\n",
      "Entity 893a70b8-1a09-4679-af3a-a31f26c49519 exited at time 180.05\n",
      "ENTITY START: 88b6dcad-ba4b-465c-bed4-7912f266dd87\n",
      "Entity 88b6dcad-ba4b-465c-bed4-7912f266dd87 exited at time 190.05\n",
      "ENTITY START: e18f7071-35d4-4eb7-9a14-ba400df5fad2\n",
      "Entity e18f7071-35d4-4eb7-9a14-ba400df5fad2 exited at time 200.05\n",
      "ENTITY START: a4ccdf4a-d62b-4d1e-8202-27a57c6170a7\n",
      "Entity a4ccdf4a-d62b-4d1e-8202-27a57c6170a7 exited at time 210.05\n",
      "ENTITY START: 8d45c5b8-c726-4733-81ab-4c26cea90288\n",
      "Entity 8d45c5b8-c726-4733-81ab-4c26cea90288 exited at time 220.05\n",
      "ENTITY START: 08fb1400-8f6b-4f2a-b84e-7e77c4cabd36\n",
      "Entity 08fb1400-8f6b-4f2a-b84e-7e77c4cabd36 exited at time 230.05\n",
      "ENTITY START: ba1a3bb5-7829-4d46-92e1-21cc8b66ee3f\n",
      "Entity ba1a3bb5-7829-4d46-92e1-21cc8b66ee3f exited at time 240.05\n",
      "ENTITY START: d900d796-8a6c-48ef-ac37-6302bed6d21d\n",
      "Entity d900d796-8a6c-48ef-ac37-6302bed6d21d exited at time 250.05\n",
      "ENTITY START: d8231015-aeb4-45b6-a29a-6c9f11a9984f\n",
      "Entity d8231015-aeb4-45b6-a29a-6c9f11a9984f exited at time 260.05\n",
      "ENTITY START: f19ef576-0627-4158-a435-01debf3839b3\n",
      "Entity f19ef576-0627-4158-a435-01debf3839b3 exited at time 270.05\n",
      "ENTITY START: f27cde82-bc30-4bad-9775-d7448a6d2411\n",
      "Entity f27cde82-bc30-4bad-9775-d7448a6d2411 exited at time 280.05\n",
      "ENTITY START: 9fd296ed-9008-4a3d-b0f2-e067d1d065c8\n",
      "Entity 9fd296ed-9008-4a3d-b0f2-e067d1d065c8 exited at time 290.05\n",
      "ENTITY START: 9ed8078c-296a-40bf-b826-b9513d0c4c98\n",
      "Entity 9ed8078c-296a-40bf-b826-b9513d0c4c98 exited at time 300.05\n",
      "ENTITY START: 1ddc6202-a539-4ad1-b1bc-9ca839318616\n",
      "Entity 1ddc6202-a539-4ad1-b1bc-9ca839318616 exited at time 310.05\n",
      "ENTITY START: cc0947f5-4aa5-4a4e-af44-d9bd90354844\n",
      "Entity cc0947f5-4aa5-4a4e-af44-d9bd90354844 exited at time 320.05\n",
      "ENTITY START: 283bef8a-b803-4b50-ba78-16ff05542273\n",
      "Entity 283bef8a-b803-4b50-ba78-16ff05542273 exited at time 330.05\n",
      "ENTITY START: 25dc4ecb-4acf-4a14-b750-0508e3587bfc\n",
      "Entity 25dc4ecb-4acf-4a14-b750-0508e3587bfc exited at time 340.05\n",
      "ENTITY START: 87566a81-c30d-4530-8de6-7144853d6299\n",
      "Entity 87566a81-c30d-4530-8de6-7144853d6299 exited at time 350.05\n",
      "ENTITY START: 5ecd1355-b5d6-4115-a875-1855646d9b8d\n",
      "Entity 5ecd1355-b5d6-4115-a875-1855646d9b8d exited at time 360.05\n",
      "ENTITY START: d94518fb-76ef-4324-8c6a-266214ba5a73\n",
      "Entity d94518fb-76ef-4324-8c6a-266214ba5a73 exited at time 370.05\n",
      "ENTITY START: e3f19abc-78a7-4fd7-bb64-1c47f1ccf683\n",
      "Entity e3f19abc-78a7-4fd7-bb64-1c47f1ccf683 exited at time 380.05\n",
      "ENTITY START: ae0beed0-1929-4719-b2ab-68e3e0c56013\n",
      "Entity ae0beed0-1929-4719-b2ab-68e3e0c56013 exited at time 390.05\n",
      "ENTITY START: b20faf2e-30f2-4329-8181-b10fd544e675\n",
      "Entity b20faf2e-30f2-4329-8181-b10fd544e675 exited at time 400.05\n",
      "ENTITY START: 36701281-2117-4d9d-b9b5-6e1e494e71b1\n",
      "Entity 36701281-2117-4d9d-b9b5-6e1e494e71b1 exited at time 410.05\n",
      "ENTITY START: 96c269d9-b197-43b8-975d-8986db7b1c56\n",
      "Entity 96c269d9-b197-43b8-975d-8986db7b1c56 exited at time 420.05\n",
      "ENTITY START: 0df73e46-4c85-4bc1-b591-559a6291941d\n",
      "Entity 0df73e46-4c85-4bc1-b591-559a6291941d exited at time 430.05\n",
      "ENTITY START: a5efe146-aa37-41fb-a95a-989f2f8ce78f\n",
      "Entity a5efe146-aa37-41fb-a95a-989f2f8ce78f exited at time 440.05\n",
      "ENTITY START: f3c1d1e4-d5db-434d-b3db-18db6ce6210c\n",
      "Entity f3c1d1e4-d5db-434d-b3db-18db6ce6210c exited at time 450.05\n",
      "ENTITY START: 43d70471-a979-4f80-84b8-3b35e81fe5c0\n",
      "Entity 43d70471-a979-4f80-84b8-3b35e81fe5c0 exited at time 460.05\n",
      "ENTITY START: cce2aaab-5d50-4e1e-ba90-833c7af491d1\n",
      "Entity cce2aaab-5d50-4e1e-ba90-833c7af491d1 exited at time 470.05\n",
      "ENTITY START: 7c79c7c7-7953-4a35-8044-4e8858ec1e76\n",
      "Entity 7c79c7c7-7953-4a35-8044-4e8858ec1e76 exited at time 480.05\n",
      "ENTITY START: c783f745-d22b-4220-bdf9-2512e4af9dbf\n",
      "Entity c783f745-d22b-4220-bdf9-2512e4af9dbf exited at time 490.05\n"
     ]
    },
    {
     "data": {
      "text/plain": [
       "<Axes: title={'center': 'System: Queue Length Over Time'}, xlabel='Time', ylabel='L(t)'>"
      ]
     },
     "execution_count": 15,
     "metadata": {},
     "output_type": "execute_result"
    },
    {
     "data": {
      "text/plain": [
       "<Figure size 640x480 with 1 Axes>"
      ],
      "image/png": "[encoded data removed]"
     },
     "metadata": {},
     "output_type": "display_data"
    }
   ],
   "execution_count": 15
  },
  {
   "metadata": {
    "ExecuteTime": {
     "end_time": "2025-04-14T17:00:58.122269Z",
     "start_time": "2025-04-14T17:00:58.093810Z"
    }
   },
   "cell_type": "code",
   "source": "",
   "id": "d3bc7745e526a905",
   "outputs": [],
   "execution_count": null
  }
 ],
 "metadata": {
  "kernelspec": {
   "display_name": "Python 3",
   "language": "python",
   "name": "python3"
  },
  "language_info": {
   "codemirror_mode": {
    "name": "ipython",
    "version": 2
   },
   "file_extension": ".py",
   "mimetype": "text/x-python",
   "name": "python",
   "nbconvert_exporter": "python",
   "pygments_lexer": "ipython2",
   "version": "2.7.6"
  }
 },
 "nbformat": 4,
 "nbformat_minor": 5
}
